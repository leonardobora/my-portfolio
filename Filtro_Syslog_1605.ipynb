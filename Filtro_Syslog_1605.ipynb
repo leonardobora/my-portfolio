{
  "nbformat": 4,
  "nbformat_minor": 0,
  "metadata": {
    "colab": {
      "provenance": [],
      "authorship_tag": "ABX9TyO4lOxcp9NvpbG1dVlh9IIm",
      "include_colab_link": true
    },
    "kernelspec": {
      "name": "python3",
      "display_name": "Python 3"
    },
    "language_info": {
      "name": "python"
    }
  },
  "cells": [
    {
      "cell_type": "markdown",
      "metadata": {
        "id": "view-in-github",
        "colab_type": "text"
      },
      "source": [
        "<a href=\"https://colab.research.google.com/github/leonardobora/my-portfolio/blob/main/Filtro_Syslog_1605.ipynb\" target=\"_parent\"><img src=\"https://colab.research.google.com/assets/colab-badge.svg\" alt=\"Open In Colab\"/></a>"
      ]
    },
    {
      "cell_type": "code",
      "execution_count": 14,
      "metadata": {
        "colab": {
          "base_uri": "https://localhost:8080/"
        },
        "id": "6TrQKXNlZWZ_",
        "outputId": "cd2a0f05-174c-4f84-bf3e-6203cb5db7e2"
      },
      "outputs": [
        {
          "output_type": "stream",
          "name": "stdout",
          "text": [
            "--- Ferramenta de Filtragem de Logs ---\n",
            "Certifique-se de que o arquivo de log original já foi carregado para o ambiente do Google Colab.\n",
            "Por favor, digite o nome do arquivo de log a ser analisado (ex: syslog_original.txt): sip_suporte_1.txt\n",
            "Iniciando processamento do arquivo: sip_suporte_1.txt\n",
            "Arquivo de saída será: sip_suporte_1_filtrado_20250516.txt\n",
            "\n",
            "--- Relatório de Execução ---\n",
            "Arquivo de entrada: sip_suporte_1.txt\n",
            "Total de linhas lidas do arquivo original: 6887\n",
            "Arquivo de saída: sip_suporte_1_filtrado_20250516.txt\n",
            "Total de linhas escritas no arquivo filtrado (contendo 'ber', 'password' ou 'loop'): 239\n",
            "\n",
            "Filtragem concluída. Arquivo salvo em: sip_suporte_1_filtrado_20250516.txt\n"
          ]
        }
      ],
      "source": [
        "import re\n",
        "from datetime import datetime\n",
        "import os # Importado para manipulação de nomes de arquivo\n",
        "\n",
        "def filtrar_logs_com_metricas_e_data(input_filepath, output_filepath_com_data):\n",
        "    \"\"\"\n",
        "    Filtra as linhas de um arquivo de log que contêm 'ber', 'password' ou 'loop'.\n",
        "    Salva as linhas filtradas no arquivo de saída especificado, que inclui a data atual.\n",
        "    Imprime a contagem de linhas antes e depois do filtro.\n",
        "    \"\"\"\n",
        "    try:\n",
        "        total_linhas_original = 0\n",
        "        linhas_apos_filtro = 0\n",
        "\n",
        "        print(f\"Iniciando processamento do arquivo: {input_filepath}\")\n",
        "        print(f\"Arquivo de saída será: {output_filepath_com_data}\")\n",
        "\n",
        "        # Abre o arquivo de entrada para leitura e o de saída para escrita.\n",
        "        # Usar encoding='utf-8' e errors='ignore' ajuda a lidar com caracteres variados nos logs.\n",
        "        with open(input_filepath, 'r', encoding='utf-8', errors='ignore') as infile, \\\n",
        "             open(output_filepath_com_data, 'w', encoding='utf-8') as outfile:\n",
        "            for line in infile:\n",
        "                total_linhas_original += 1\n",
        "                # Busca pelas palavras-chave (ignorando maiúsculas/minúsculas)\n",
        "                if re.search(r'(ber|password|loop)', line, re.IGNORECASE):\n",
        "                    outfile.write(line)\n",
        "                    linhas_apos_filtro += 1\n",
        "\n",
        "        # Imprime os logs de execução básicos\n",
        "        print(f\"\\n--- Relatório de Execução ---\")\n",
        "        print(f\"Arquivo de entrada: {input_filepath}\")\n",
        "        print(f\"Total de linhas lidas do arquivo original: {total_linhas_original}\")\n",
        "        print(f\"Arquivo de saída: {output_filepath_com_data}\")\n",
        "        print(f\"Total de linhas escritas no arquivo filtrado (contendo 'ber', 'password' ou 'loop'): {linhas_apos_filtro}\")\n",
        "\n",
        "        return True, f\"Filtragem concluída. Arquivo salvo em: {output_filepath_com_data}\"\n",
        "    except FileNotFoundError:\n",
        "        # Tratamento específico para arquivo não encontrado\n",
        "        return False, f\"Erro Crítico: O arquivo de entrada '{input_filepath}' não foi encontrado. Por favor, verifique o nome e se ele está no diretório correto do Colab.\"\n",
        "    except Exception as e:\n",
        "        # Tratamento para outros erros inesperados\n",
        "        return False, f\"Erro Crítico durante o processamento: {str(e)}\"\n",
        "\n",
        "def executar_filtragem_interativa_colab():\n",
        "    \"\"\"\n",
        "    Função principal para ser executada no Google Colab.\n",
        "    Solicita o nome do arquivo de entrada ao usuário,\n",
        "    gera o nome do arquivo de saída com base no original, adicionando \"_filtrado\" e a data atual,\n",
        "    e então executa a filtragem.\n",
        "    \"\"\"\n",
        "    print(\"--- Ferramenta de Filtragem de Logs ---\")\n",
        "    print(\"Certifique-se de que o arquivo de log original já foi carregado para o ambiente do Google Colab.\")\n",
        "\n",
        "    # Solicita o nome do arquivo de entrada via caixa de texto no Colab\n",
        "    nome_arquivo_entrada = input(\"Por favor, digite o nome do arquivo de log a ser analisado (ex: syslog_original.txt): \")\n",
        "\n",
        "    # Extrai o nome base do arquivo de entrada (sem extensão)\n",
        "    nome_base_entrada, extensao_entrada = os.path.splitext(nome_arquivo_entrada)\n",
        "\n",
        "    # Define o sufixo para o arquivo filtrado\n",
        "    sufixo_filtrado = \"_filtrado\"\n",
        "\n",
        "    # Obtém a data atual no formato AAAAMMDD\n",
        "    data_hoje_str = datetime.now().strftime(\"%Y%m%d\")\n",
        "\n",
        "    # Monta o nome do arquivo de saída\n",
        "    # Formato: nomeoriginal_filtrado_AAAAMMDD.txt\n",
        "    nome_arquivo_saida = f\"{nome_base_entrada}{sufixo_filtrado}_{data_hoje_str}{extensao_entrada}\"\n",
        "\n",
        "    # Chama a função de filtragem com os nomes de arquivo definidos\n",
        "    sucesso, mensagem_retorno = filtrar_logs_com_metricas_e_data(nome_arquivo_entrada, nome_arquivo_saida)\n",
        "\n",
        "    # Imprime a mensagem final com o resultado da operação\n",
        "    print(f\"\\n{mensagem_retorno}\")\n",
        "\n",
        "executar_filtragem_interativa_colab()\n",
        "\n"
      ]
    },
    {
      "cell_type": "code",
      "source": [],
      "metadata": {
        "id": "T8MGDQKUhdtK"
      },
      "execution_count": null,
      "outputs": []
    }
  ]
}